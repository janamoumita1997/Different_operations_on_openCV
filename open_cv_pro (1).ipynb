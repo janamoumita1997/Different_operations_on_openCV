{
 "cells": [
  {
   "cell_type": "markdown",
   "metadata": {},
   "source": [
    "# USER DEFINED PROJECT ON 1)RESIZING,2)ROTATION,3)BRIGHTNESS AND CONTRAST CHANGE,4)GETTING MIRROR IMAGE"
   ]
  },
  {
   "cell_type": "code",
   "execution_count": 45,
   "metadata": {},
   "outputs": [],
   "source": [
    "def user_input():\n",
    "    x=eval(input('To resize your imgage,Press:0' '\\n' 'To Rotate your imgage ,Press:1' '\\n' 'To increase the brightness of your image,Press:2' '\\n' 'To get mirror imge of your photo,Press:3''\\n'))\n",
    "    \n",
    "    return x"
   ]
  },
  {
   "cell_type": "code",
   "execution_count": 49,
   "metadata": {},
   "outputs": [
    {
     "name": "stdout",
     "output_type": "stream",
     "text": [
      "To resize your imgage,Press:0\n",
      "To Rotate your imgage ,Press:1\n",
      "To increase the brightness of your image,Press:2\n",
      "To get mirror imge of your photo,Press:3\n",
      "1\n"
     ]
    }
   ],
   "source": [
    "x=user_input()"
   ]
  },
  {
   "cell_type": "code",
   "execution_count": 50,
   "metadata": {},
   "outputs": [
    {
     "name": "stdout",
     "output_type": "stream",
     "text": [
      "You have pressed :  1\n"
     ]
    }
   ],
   "source": [
    "print('You have pressed : ',x)"
   ]
  },
  {
   "cell_type": "code",
   "execution_count": 51,
   "metadata": {},
   "outputs": [
    {
     "name": "stdout",
     "output_type": "stream",
     "text": [
      "The angle you want to rotate your image: 60\n"
     ]
    }
   ],
   "source": [
    "import cv2, time\n",
    "from datetime import datetime\n",
    "import matplotlib.pyplot as plt\n",
    " \n",
    "\n",
    "\n",
    "img=cv2.imread('opencv-4.1-feature-image.png', cv2.IMREAD_COLOR) #craeting an variable 'img' to read the image\n",
    "#'cv2.IMREAD_COLOR'=> to read the image\n",
    "\n",
    "\n",
    "\n",
    "#*******************************************For resizing the image*********************************************************************\n",
    "if x==0:\n",
    "    q=eval(input('Width: '))\n",
    "    w=eval(input('height: '))\n",
    "    double=cv2.resize(img,(q,w))\n",
    "    \n",
    "    cv2.putText(double,'Resized image',(0,300),cv2.FONT_HERSHEY_TRIPLEX,1,(0,0,255),2) \n",
    "    #'(0,50)'=>starting point to write the text\n",
    "    #'cv2.FONT_HERSHEY_TRIPLEX'=>font style\n",
    "    #'1'=>font-size factor.\n",
    "    #'2'=>It is the thickness of the line in px.\n",
    "    \n",
    "    cv2.imshow('Resized Image:',double) # to show the the resized image.\n",
    "    \n",
    "\n",
    "#***********************************************END-RESIZING************************************************************\n",
    "\n",
    "#*********************************************ROTATION of IMAGE*********************************************************\n",
    "if x==1:\n",
    "\n",
    "    '''rot_img = cv2.rotate(img, cv2.cv2.ROTATE_90_CLOCKWISE)\n",
    "    cv2.imshow('Rotataed Image',rot_img)\n",
    "    \n",
    "    '''\n",
    "    rows,cols,_ = img.shape\n",
    "    an_gle=eval(input('The angle you want to rotate your image: '))\n",
    "    # Create the transformation matrix\n",
    "    M = cv2.getRotationMatrix2D(((cols-1)/2.0,(rows-1)/2.0),an_gle,1)\n",
    "    #.getRotationmatrix2D('position of the axis','angle to rotate','isotropic scale factor')\n",
    "    \n",
    "    # Pass it to warpAffine function\n",
    "    dst = cv2.warpAffine(img,M,(cols,rows))\n",
    "    #.warpAffine('image to rotate','rotaton matrix','rows and columns of the rotation matrix')\n",
    "    \n",
    "    # To put text in the image\n",
    "    cv2.putText(dst,'Rotated Image',(25,50),cv2.FONT_HERSHEY_TRIPLEX,1,(0,0,255),2)\n",
    "    \n",
    "    # Display the concatenated image\n",
    "    out = cv2.hconcat([img, dst])\n",
    "    cv2.imshow('Original+Rotated image',out)\n",
    "\n",
    "#***********************************************END-ROTATION of IMAGE*********************************************************\n",
    "\n",
    "\n",
    "#****************************************INCREASE BRIGHTNESS******************************************************************        \n",
    "if x==2:\n",
    "    q=eval(input('value of alpha: ')) #contrast factor\n",
    "    w=eval(input('value of beta: ')) #brightness factor\n",
    "    brgt_img = cv2.convertScaleAbs(img, alpha=q, beta=w)\n",
    "    \n",
    "    \n",
    "    cv2.putText(brgt_img,'Bright image',(0,50),cv2.FONT_HERSHEY_TRIPLEX,1,(255,0,0),2)\n",
    "    #'(0,50)'=>starting point to write the text\n",
    "    #'cv2.FONT_HERSHEY_TRIPLEX'=>font style\n",
    "    #'1'=>font-size factor.\n",
    "    #'2'=>It is the thickness of the line in px.\n",
    "    \n",
    "    \n",
    "    cv2.imshow('original',img) # to show the image\n",
    "    cv2.imshow('Bright Image',brgt_img)\n",
    "           \n",
    "#****************************************END-INCREASE BRIGHTNESS***************************************************************            \n",
    "\n",
    "\n",
    "\n",
    "#****************************************MIRROR_IMAGE**************************************************************************\n",
    "if x==3:\n",
    "    q=eval(input('To rotate about x-axis=0, about y-axis=1'))\n",
    "    \n",
    "    mirr_img=cv2.flip(img,q)\n",
    "    cv2.putText(mirr_img,'Mirror Image',(0,50),cv2.FONT_HERSHEY_TRIPLEX,1,(255,0,0),2)\n",
    "    \n",
    "    cv2.imshow('Mirror image',mirr_img)\n",
    "    cv2.imshow('original',img)\n",
    "#****************************************END_MIRROR_IMAGE**********************************************************************\n",
    "    \n",
    "    \n",
    "\n",
    "\n",
    "\n",
    "\n",
    "cv2.waitKey(0)\n",
    " \n",
    "# It is for removing/deleting created GUI window from screen\n",
    "# and memory\n",
    "cv2.destroyAllWindows()"
   ]
  },
  {
   "cell_type": "code",
   "execution_count": null,
   "metadata": {},
   "outputs": [],
   "source": []
  }
 ],
 "metadata": {
  "kernelspec": {
   "display_name": "Python 3",
   "language": "python",
   "name": "python3"
  },
  "language_info": {
   "codemirror_mode": {
    "name": "ipython",
    "version": 3
   },
   "file_extension": ".py",
   "mimetype": "text/x-python",
   "name": "python",
   "nbconvert_exporter": "python",
   "pygments_lexer": "ipython3",
   "version": "3.8.5"
  }
 },
 "nbformat": 4,
 "nbformat_minor": 4
}
